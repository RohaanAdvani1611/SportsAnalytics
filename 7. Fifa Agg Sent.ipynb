{
 "cells": [
  {
   "cell_type": "markdown",
   "metadata": {},
   "source": [
    "# PROJECT TITLE: FINDING THE MOST INTERESTING TWEETS AND FAN SENTIMENT DURING A GAME TELECAST IN REALTIME"
   ]
  },
  {
   "cell_type": "markdown",
   "metadata": {},
   "source": [
    "# PART 7: GET AGGREGATE FAN SENTIMENT OF TEAMS:"
   ]
  },
  {
   "cell_type": "code",
   "execution_count": 1,
   "metadata": {},
   "outputs": [],
   "source": [
    "import numpy as np\n",
    "import pandas as pd\n",
    "import warnings\n",
    "warnings.filterwarnings('ignore')"
   ]
  },
  {
   "cell_type": "code",
   "execution_count": 2,
   "metadata": {},
   "outputs": [],
   "source": [
    "def getScore(tn, team_weight):\n",
    "    team_score = 0\n",
    "    for i in team_weight:\n",
    "        if tn in i[0]:\n",
    "            team_score += i[1]\n",
    "    return team_score"
   ]
  },
  {
   "cell_type": "code",
   "execution_count": 3,
   "metadata": {},
   "outputs": [],
   "source": [
    "# Team List\n",
    "team_list = []\n",
    "# Team Set\n",
    "team_set = []\n",
    "dfEv = pd.read_csv('events_proc.csv')\n",
    "dfEv.Player = dfEv.Player.fillna('')\n",
    "dfEv.Team = dfEv.Team.fillna('')\n",
    "\n",
    "for i in range(1466):\n",
    "    if dfEv['Player'][i] != '':\n",
    "        team_list.append(dfEv['Team'][i].lower())\n",
    "\n",
    "for i in team_list:\n",
    "    if i not in team_set:\n",
    "        team_set.append(i)"
   ]
  },
  {
   "cell_type": "code",
   "execution_count": 4,
   "metadata": {},
   "outputs": [],
   "source": [
    "def getTeamSent(fn):\n",
    "    # Team Reffered To List\n",
    "    team_ref = []\n",
    "    # Team Reffered To Set\n",
    "    team_ref_set = []\n",
    "    # Weighted Sentiment\n",
    "    ws = []\n",
    "    # Team Weight = Team Ref + WS\n",
    "    team_weight = []\n",
    "    # All teams Sentiments\n",
    "    all_team_sent = []\n",
    "                \n",
    "    df = pd.read_csv(fn)\n",
    "    df.drop(['Unnamed: 0', 'Tweet', 'Tweet_Extra', 'Day', 'Mon', 'Hr', 'Mnt', 'Tweet_Proc'], axis = 1, inplace = True)\n",
    "    df['SentDiff'] = 0\n",
    "    df['WeightedSent'] = 0\n",
    "    \n",
    "    for i in range(df.shape[0]):\n",
    "        df['SentDiff'][i] = df['PosSent'][i] - df['NegSent'][i]\n",
    "        df['WeightedSent'][i] = df['weight'][i] * df['SentDiff'][i]\n",
    "\n",
    "    df.drop(['weight', 'PosSent', 'NegSent', 'NeuSent', 'SentDiff'], axis = 1, inplace = True)\n",
    "    \n",
    "    df1 = df['TeamsRef']\n",
    "    for i in df1:\n",
    "        x = i.split('[')\n",
    "        y = x[1].split(']')\n",
    "        z = y[0].split(\"'\")\n",
    "        team_ref.append(z)\n",
    "\n",
    "    for i in team_ref:\n",
    "            i.remove('')\n",
    "\n",
    "    for i in team_ref:\n",
    "        for j in i:\n",
    "            if any(c.isalpha() for c in j):\n",
    "                pass\n",
    "            else:\n",
    "                i.remove(j)\n",
    "\n",
    "    for i in team_ref:\n",
    "        tmp = []\n",
    "        for j in i:\n",
    "            if j not in tmp:\n",
    "                tmp.append(j)\n",
    "        team_ref_set.append(tmp)\n",
    "        \n",
    "    df1 = df['WeightedSent']\n",
    "    for i in df1:\n",
    "        ws.append(i)\n",
    "        \n",
    "    for i in range(len(ws)):\n",
    "        tmp = []\n",
    "        tmp.append(team_ref_set[i])\n",
    "        tmp.append(ws[i])\n",
    "        team_weight.append(tmp)\n",
    "        \n",
    "    for i in range(len(team_set)):\n",
    "        tmp = []\n",
    "        team_score = getScore(team_set[i], team_weight)\n",
    "        tmp.append(team_set[i])\n",
    "        tmp.append(team_score)\n",
    "        all_team_sent.append(tmp)\n",
    "    \n",
    "    ats_max = 0\n",
    "    ats_min = 0\n",
    "    for i in all_team_sent:\n",
    "        if i[1] > ats_max:\n",
    "            ats_max = i[1]\n",
    "        if i[1] < ats_min:\n",
    "            ats_min = i[1]\n",
    "            \n",
    "    for i in all_team_sent:\n",
    "        i[1] = np.interp(i[1], [ats_min, ats_max], [-1, 1])\n",
    "        \n",
    "    return all_team_sent"
   ]
  },
  {
   "cell_type": "code",
   "execution_count": 5,
   "metadata": {},
   "outputs": [
    {
     "data": {
      "text/plain": [
       "[['france', 1.0],\n",
       " ['argentina', 0.16699025127775036],\n",
       " ['uruguay', -0.7109689430747952],\n",
       " ['portugal', -0.6242696767348745],\n",
       " ['russia', -0.3872193925338895],\n",
       " ['spain', -0.9900454067969192],\n",
       " ['denmark', -0.9991675402038537],\n",
       " ['croatia', -0.998886769822282],\n",
       " ['mexico', -0.9468173071715233],\n",
       " ['brazil', -0.9768202631318824],\n",
       " ['japan', -0.9981849480786689],\n",
       " ['belgium', -0.9875222735656416],\n",
       " ['switzerland', -0.9998344306494379],\n",
       " ['sweden', -0.999558724889239],\n",
       " ['columbia', -0.953996612914615],\n",
       " ['england', -0.9842199528519182]]"
      ]
     },
     "execution_count": 5,
     "metadata": {},
     "output_type": "execute_result"
    }
   ],
   "source": [
    "ats30 = getTeamSent('tweet_new_3006.csv')\n",
    "ats30"
   ]
  },
  {
   "cell_type": "code",
   "execution_count": 6,
   "metadata": {},
   "outputs": [
    {
     "data": {
      "text/plain": [
       "[['france', 1.0],\n",
       " ['argentina', 0.5358017585878307],\n",
       " ['uruguay', 0.5613557371249596],\n",
       " ['portugal', 0.7787060583075509],\n",
       " ['russia', -0.6455665110897563],\n",
       " ['spain', -0.7573192816190364],\n",
       " ['denmark', -1.0],\n",
       " ['croatia', -0.6959025251600086],\n",
       " ['mexico', -0.7846935921794522],\n",
       " ['brazil', -0.7696744938777424],\n",
       " ['japan', -0.7870349787005657],\n",
       " ['belgium', -0.7752114907310756],\n",
       " ['switzerland', -0.7870598175999943],\n",
       " ['sweden', -0.7869128463007333],\n",
       " ['columbia', -0.7701632578063116],\n",
       " ['england', -0.7624639332150418]]"
      ]
     },
     "execution_count": 6,
     "metadata": {},
     "output_type": "execute_result"
    }
   ],
   "source": [
    "ats01 = getTeamSent('tweet_new_0107.csv')\n",
    "ats01"
   ]
  },
  {
   "cell_type": "code",
   "execution_count": 7,
   "metadata": {},
   "outputs": [
    {
     "data": {
      "text/plain": [
       "[['france', -0.4864964892372686],\n",
       " ['argentina', -0.7231595337637255],\n",
       " ['uruguay', -0.8262716440492384],\n",
       " ['portugal', -0.7735469063750962],\n",
       " ['russia', -0.6987350060460322],\n",
       " ['spain', -0.8515409550252108],\n",
       " ['denmark', 0.9506136378877947],\n",
       " ['croatia', 1.0],\n",
       " ['mexico', -1.0],\n",
       " ['brazil', -0.9527984543926087],\n",
       " ['japan', -0.9907057491887409],\n",
       " ['belgium', -0.9898342224894879],\n",
       " ['switzerland', -0.994051423724743],\n",
       " ['sweden', -0.9960345257822975],\n",
       " ['columbia', -0.9768474352967116],\n",
       " ['england', -0.9953016795902788]]"
      ]
     },
     "execution_count": 7,
     "metadata": {},
     "output_type": "execute_result"
    }
   ],
   "source": [
    "ats02 = getTeamSent('tweet_new_0207.csv')\n",
    "ats02"
   ]
  },
  {
   "cell_type": "code",
   "execution_count": 8,
   "metadata": {},
   "outputs": [
    {
     "data": {
      "text/plain": [
       "[['france', -0.9980752149040959],\n",
       " ['argentina', -0.9999934113166312],\n",
       " ['uruguay', -0.9999996961529515],\n",
       " ['portugal', -0.9984566389017397],\n",
       " ['russia', -0.9962935277751079],\n",
       " ['spain', -0.9987305430230614],\n",
       " ['denmark', -0.9986045284566519],\n",
       " ['croatia', -0.9964361739694387],\n",
       " ['mexico', -0.9942545641547321],\n",
       " ['brazil', -0.9647196255407364],\n",
       " ['japan', -0.9981518403321581],\n",
       " ['belgium', -0.978120361837897],\n",
       " ['switzerland', -1.0],\n",
       " ['sweden', -0.9929854829886168],\n",
       " ['columbia', -0.8747368693305058],\n",
       " ['england', 1.0]]"
      ]
     },
     "execution_count": 8,
     "metadata": {},
     "output_type": "execute_result"
    }
   ],
   "source": [
    "ats04 = getTeamSent('tweet_new_0407.csv')\n",
    "ats04"
   ]
  },
  {
   "cell_type": "code",
   "execution_count": 9,
   "metadata": {},
   "outputs": [
    {
     "data": {
      "text/plain": [
       "[['france', 1.0],\n",
       " ['argentina', -0.30048353914177084],\n",
       " ['uruguay', -0.2983709003426399],\n",
       " ['portugal', -0.30093992936917413],\n",
       " ['russia', -1.0],\n",
       " ['spain', -0.30104472285730066],\n",
       " ['denmark', -0.3010994542016343],\n",
       " ['croatia', -0.27762644033609063],\n",
       " ['mexico', -0.3009973070886949],\n",
       " ['brazil', -0.2699867782938651],\n",
       " ['japan', -0.3010202225450841],\n",
       " ['belgium', 0.7894126234056156],\n",
       " ['switzerland', -0.3010486163321553],\n",
       " ['sweden', -0.30358594824214213],\n",
       " ['columbia', -0.3011910789111296],\n",
       " ['england', -0.01365974618151633]]"
      ]
     },
     "execution_count": 9,
     "metadata": {},
     "output_type": "execute_result"
    }
   ],
   "source": [
    "ats10 = getTeamSent('tweet_new_1007.csv')\n",
    "ats10"
   ]
  },
  {
   "cell_type": "code",
   "execution_count": 10,
   "metadata": {},
   "outputs": [
    {
     "data": {
      "text/plain": [
       "[['france', 1.0],\n",
       " ['argentina', -0.7316634508900787],\n",
       " ['uruguay', -0.7324825068216007],\n",
       " ['portugal', -0.7323383063730036],\n",
       " ['russia', -1.0],\n",
       " ['spain', -0.7325876404766604],\n",
       " ['denmark', -0.7326062638668623],\n",
       " ['croatia', -0.3485032928645333],\n",
       " ['mexico', -0.7325842813403698],\n",
       " ['brazil', -0.7315781911627861],\n",
       " ['japan', -0.7326232673299414],\n",
       " ['belgium', 0.5886675700973296],\n",
       " ['switzerland', -0.7325708024693207],\n",
       " ['sweden', -0.7332541577598812],\n",
       " ['columbia', -0.7326202583441691],\n",
       " ['england', -0.5450752773496563]]"
      ]
     },
     "execution_count": 10,
     "metadata": {},
     "output_type": "execute_result"
    }
   ],
   "source": [
    "ats11 = getTeamSent('tweet_new_1107.csv')\n",
    "ats11"
   ]
  },
  {
   "cell_type": "code",
   "execution_count": 11,
   "metadata": {},
   "outputs": [
    {
     "data": {
      "text/plain": [
       "[['france', -0.9393220986253364],\n",
       " ['argentina', -0.9918547296860923],\n",
       " ['uruguay', -0.9918536719797193],\n",
       " ['portugal', -0.9899138040011342],\n",
       " ['russia', -1.0],\n",
       " ['spain', -0.9919822522848943],\n",
       " ['denmark', -0.9920948175359646],\n",
       " ['croatia', 1.0],\n",
       " ['mexico', -0.9920897359466506],\n",
       " ['brazil', -0.990218009551468],\n",
       " ['japan', -0.9920919663274808],\n",
       " ['belgium', -0.983205519769472],\n",
       " ['switzerland', -0.9920917133976959],\n",
       " ['sweden', -0.99211838599319],\n",
       " ['columbia', -0.9920941047338436],\n",
       " ['england', 0.897306966330671]]"
      ]
     },
     "execution_count": 11,
     "metadata": {},
     "output_type": "execute_result"
    }
   ],
   "source": [
    "ats12 = getTeamSent('tweet_new_1207.csv')\n",
    "ats12"
   ]
  },
  {
   "cell_type": "code",
   "execution_count": 12,
   "metadata": {},
   "outputs": [
    {
     "data": {
      "text/plain": [
       "[['france', 1.0],\n",
       " ['argentina', -0.9984854786923743],\n",
       " ['uruguay', -0.999951206906378],\n",
       " ['portugal', -0.9998656981499584],\n",
       " ['russia', -0.8893824263298563],\n",
       " ['spain', -0.9269702503765161],\n",
       " ['denmark', -0.9999916515589558],\n",
       " ['croatia', 0.3330118290504438],\n",
       " ['mexico', -0.9999892373141117],\n",
       " ['brazil', -0.9998024792948026],\n",
       " ['japan', -0.9999905945742857],\n",
       " ['belgium', -0.7731583158731385],\n",
       " ['switzerland', -0.9999899342536807],\n",
       " ['sweden', -1.0],\n",
       " ['columbia', -0.9999904377954674],\n",
       " ['england', -0.8116664936495619]]"
      ]
     },
     "execution_count": 12,
     "metadata": {},
     "output_type": "execute_result"
    }
   ],
   "source": [
    "ats15 = getTeamSent('tweet_new_1507.csv')\n",
    "ats15"
   ]
  },
  {
   "cell_type": "code",
   "execution_count": 13,
   "metadata": {},
   "outputs": [
    {
     "data": {
      "text/plain": [
       "[['france', 1.0],\n",
       " ['argentina', -0.9998262653467955],\n",
       " ['uruguay', -0.9998494054829322],\n",
       " ['portugal', -0.9998748503269977],\n",
       " ['russia', -0.9806217849528923],\n",
       " ['spain', -0.990628277434551],\n",
       " ['denmark', -0.999970179002575],\n",
       " ['croatia', -0.7203475578779166],\n",
       " ['mexico', -1.0],\n",
       " ['brazil', -0.9997345649577115],\n",
       " ['japan', -0.999970219947588],\n",
       " ['belgium', -0.967709081208439],\n",
       " ['switzerland', -0.9999691429696702],\n",
       " ['sweden', -0.9999697540429703],\n",
       " ['columbia', -0.999970179002575],\n",
       " ['england', -0.9802060900879983]]"
      ]
     },
     "execution_count": 13,
     "metadata": {},
     "output_type": "execute_result"
    }
   ],
   "source": [
    "ats16 = getTeamSent('tweet_new_1607.csv')\n",
    "ats16"
   ]
  },
  {
   "cell_type": "code",
   "execution_count": 15,
   "metadata": {},
   "outputs": [
    {
     "data": {
      "text/plain": [
       "[['france', 1.0],\n",
       " ['argentina', 0.24281902547843573],\n",
       " ['uruguay', 0.1588568737091609],\n",
       " ['portugal', 0.1902986047194241],\n",
       " ['russia', 0.01834334803457618],\n",
       " ['spain', 0.02334824215742734],\n",
       " ['denmark', 0.15230935732963616],\n",
       " ['croatia', 0.536069044668381],\n",
       " ['mexico', 0.004848563974409761],\n",
       " ['brazil', 0.013290583759144515],\n",
       " ['japan', 0.0006010947403372802],\n",
       " ['belgium', 0.23983145600556213],\n",
       " ['switzerland', 0.0],\n",
       " ['sweden', 0.00019292884271949085],\n",
       " ['columbia', 0.01801024797453762],\n",
       " ['england', 0.4051166006643297]]"
      ]
     },
     "execution_count": 15,
     "metadata": {},
     "output_type": "execute_result"
    }
   ],
   "source": [
    "avg_sent = []\n",
    "for i in range(len(ats16)):\n",
    "    av_st = (ats30[i][1] + ats01[i][1] + ats02[i][1] + ats04[i][1] + ats10[i][1] + ats11[i][1] + ats12[i][1] + ats15[i][1] + ats16[i][1]) / 9\n",
    "    avg_sent.append(av_st)\n",
    "    \n",
    "team_overall_sent = []\n",
    "for i in range(len(avg_sent)):\n",
    "    tmp = []\n",
    "    tmp.append(team_set[i])\n",
    "    tmp.append(avg_sent[i])\n",
    "    team_overall_sent.append(tmp)\n",
    "    \n",
    "tos_max = 0\n",
    "tos_min = 0\n",
    "for i in team_overall_sent:\n",
    "    if i[1] > tos_max:\n",
    "        tos_max = i[1]\n",
    "    if i[1] < tos_min:\n",
    "        tos_min = i[1]\n",
    "            \n",
    "for i in team_overall_sent:\n",
    "    i[1] = np.interp(i[1], [tos_min, tos_max], [0, 1])\n",
    "\n",
    "team_overall_sent"
   ]
  }
 ],
 "metadata": {
  "kernelspec": {
   "display_name": "Python 3",
   "language": "python",
   "name": "python3"
  },
  "language_info": {
   "codemirror_mode": {
    "name": "ipython",
    "version": 3
   },
   "file_extension": ".py",
   "mimetype": "text/x-python",
   "name": "python",
   "nbconvert_exporter": "python",
   "pygments_lexer": "ipython3",
   "version": "3.7.6"
  }
 },
 "nbformat": 4,
 "nbformat_minor": 4
}
